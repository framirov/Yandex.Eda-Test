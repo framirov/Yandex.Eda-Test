{
 "cells": [
  {
   "cell_type": "code",
   "execution_count": 114,
   "metadata": {},
   "outputs": [],
   "source": [
    "import pandas as pd\n",
    "import numpy as np"
   ]
  },
  {
   "cell_type": "code",
   "execution_count": 146,
   "metadata": {},
   "outputs": [],
   "source": [
    "def is_in(x, y, xp, yp):\n",
    "    c = 0\n",
    "    for i in range(len(xp)):\n",
    "        if (((yp[i] <= y and y < yp[i - 1]) or (yp[i - 1] <= y and y < yp[i])) and\n",
    "            (x > (xp[i - 1] - xp[i]) * (y - yp[i]) / (yp[i - 1] - yp[i]) + xp[i])):\n",
    "            c = 1 - c    \n",
    "    return c"
   ]
  },
  {
   "cell_type": "code",
   "execution_count": 147,
   "metadata": {},
   "outputs": [],
   "source": [
    "users = pd.read_csv('user_coordinates.csv')\n",
    "rests = pd.read_csv('place_zone_coordinates.csv')\n",
    "d = [0] * (len(users))\n",
    "count = pd.DataFrame({'id': range(1, len(users) + 1), 'number_of_places_available': [0] * len(users)})\n",
    "for i in users.values:\n",
    "    for j in range(1, len(rests) + 1):\n",
    "        count.number_of_places_available[int(i[0]) - 1] += is_in(i[1], i[2], \n",
    "            list(rests[rests.place_id == j]['loc_lat']), list(rests[rests.place_id == j]['loc_lon']))\n",
    "count.to_csv('users_locations_count.csv', index=False)"
   ]
  }
 ],
 "metadata": {
  "kernelspec": {
   "display_name": "Python 3",
   "language": "python",
   "name": "python3"
  },
  "language_info": {
   "codemirror_mode": {
    "name": "ipython",
    "version": 3
   },
   "file_extension": ".py",
   "mimetype": "text/x-python",
   "name": "python",
   "nbconvert_exporter": "python",
   "pygments_lexer": "ipython3",
   "version": "3.8.3"
  }
 },
 "nbformat": 4,
 "nbformat_minor": 4
}
